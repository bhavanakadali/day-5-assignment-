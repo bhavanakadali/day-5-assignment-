{
  "nbformat": 4,
  "nbformat_minor": 0,
  "metadata": {
    "colab": {
      "name": "Untitled1.ipynb",
      "provenance": []
    },
    "kernelspec": {
      "name": "python3",
      "display_name": "Python 3"
    }
  },
  "cells": [
    {
      "cell_type": "code",
      "metadata": {
        "id": "BhcItNDkembO"
      },
      "source": [
        "def primefunc(num):\r\n",
        "  for i in range(2,num):\r\n",
        "    if num%i==0:\r\n",
        "        print(\"the number is not prime\")\r\n",
        "  else:\r\n",
        "        print(\"the number is not prime\")\r\n"
      ],
      "execution_count": 75,
      "outputs": []
    },
    {
      "cell_type": "code",
      "metadata": {
        "colab": {
          "base_uri": "https://localhost:8080/"
        },
        "id": "MrhF-HGwgnf5",
        "outputId": "610a36ed-a718-4751-c02e-bf2d4642e4da"
      },
      "source": [
        "primefunc(4)"
      ],
      "execution_count": 77,
      "outputs": [
        {
          "output_type": "stream",
          "text": [
            "the number is not prime\n",
            "the number is not prime\n"
          ],
          "name": "stdout"
        }
      ]
    }
  ]
}